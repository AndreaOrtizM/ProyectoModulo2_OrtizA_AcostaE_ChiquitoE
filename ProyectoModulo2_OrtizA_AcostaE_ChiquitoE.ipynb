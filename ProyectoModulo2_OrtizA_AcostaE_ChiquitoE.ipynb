{
 "cells": [
  {
   "cell_type": "markdown",
   "metadata": {},
   "source": [
    "<img style=\"float: right; margin: 0px 0px 15px 15px;\" src=\"https://intranet.stpaulsschool.org.uk/resource.aspx?id=400351\" width=\"300px\" height=\"100px\" />\n",
    "\n",
    "<font color = pink>\n",
    "\n",
    "# Interacción de electrones con la materia.\n",
    "\n",
    "<font color = purple>\n",
    "\n",
    "## 1. Objetivos\n",
    "\n",
    "<font color = blue>\n",
    "\n",
    "### 1.1 Objetivo general\n",
    "<font color = black> \n",
    "> - Analizar el recorrido de los electrones al penetrar en sólidos debido a su interacción con la muestra.\n",
    "\n",
    "<font color = blue> \n",
    "\n",
    "### 1.2 Objetivos específicos\n",
    "\n",
    "<font color = black> \n",
    "> - Observar el volumen de interacción en la interacción entre sólidos y materia. \n",
    "> - Utilizar el método de Monte Carlo para simular el comportamiento de dicha situación dependiendo de los parámetros característicos del sistema.\n",
    "\n"
   ]
  },
  {
   "attachments": {},
   "cell_type": "markdown",
   "metadata": {
    "collapsed": true
   },
   "source": [
    "<font color = purple>\n",
    "\n",
    "## 2. Introducción\n",
    "\n",
    "<font color = black> \n",
    "\n",
    "El estudio de los procesos físicos involucrados en la interacción del haz electrónico con la muestra resulta fundamental para comprender el origen del contraste de las imágenes que aparecen en la pantalla de un **Microscopio Electrónico de Barrido (SEM)** o un **Microscopio Electrónico de Transmisión (TEM)** o también entender otras técnicas de caracterización como la **Espectroscopía de Dispersión de Energía de Rayos X (EDS).**\n",
    "\n",
    "Cuando un electrón con una determinada velocidad (léase energía) choca contra un objeto, o muestra, pueden ocurrir varios sucesos, cada uno de los cuales va a generar una determinada respuesta:\n",
    "\n",
    "* El electrón atraviesa limpiamente la muestra, sin interactuar con sus átomos. En muestras delgadas, podría ser más probable. Cuando aumenta el espesor de la muestra, el nº atómico de la misma y el número de electrones incidentes, aumentan las probabilidades de encuentro. Esta probabilidad se calcula  mediante un parámetro denominado “cross-section” (secció eficaz).\n",
    "* Puede ocurrir que el electrón pase lo bastante cerca del núcleo como para ser atraído por su carga positiva, sufriendo una desviación de su trayectoria inicial. Este tipo de desviación es conocida como **dispersión elástica**. Si el electrón no pierde velocidad (energía), no ocurre nada más, aunque hay que precisar que este cambio de rumbo es fundamental en TEM. Si la desviación es mayor de 90°, el electrón vuelve a salir de la muestra por donde entró y, en este caso, estaríamos hablando de *electrones retrodispersados*, utilizados en SEM.\n",
    "* Tercera posibilidad, que el electrón sufra una desviación de su trayectoria y además una pérdida de energía, es decir, que experimente una **dispersión inelástica**. En este caso ocurre algo, y ese algo es que un cuanto de radiación es emitido para conservar el balance energético. Esta radiación emitida es conocida como bremsstrahlung (\"radiación de frenado\"), y genera un espectro continuo o radiación de fondo cuya forma característica es independiente de la composición química de la muestra objetivo. \n",
    "* Otra posibilidad es que nuestro electrón visitante intime con alguno de los electrones locales de los orbitales internos y acabe expulsándolo del átomo. Este electrón expulsado se denomina electrón secundario (el que lo ha expulsado es primario), y es fundamental en SEM. El electrón primario continúa su camino, pero algo desviado y debilitado por el esfuerzo. El estudio de estos electrones debilitados es la base de otra técnica de análisis cuyas siglas son  **EELS (Electron Energy Loss Spectrometry)**. Algunos picosegundos después de que el electrón secundario ha dejado una vacante en el átomo (lo ha ionizado), otro de los electrones locales de algún orbital más externo se lanza a ocupar el lugar del expulsado, más cerquita del núcleo. Ahora bien, esta reestructuración de plantilla deja al átomo con un excedente de energía, que puede solucionar de dos formas distintas:\n",
    "    - Para volver al equilibrio, el átomo expulsa un electrón de la capa externa, que es conocido como electrón Auger. Estos son utilizados en otra técnica de microanálisis cuyas siglas son **AES (Auger Electron Spectrometry).**\n",
    "    - Para volver al equilibrio, el átomo emite un fotón de rayos X. Ésta, finalmente, es la base del EDS (EDXRS, EDX o XDS). \n",
    "\n",
    "Conforme los electrones del haz incidente van penetrado en la muestra, sufren sucesivas interacciones elásticas e inelásticas que dan lugar a su progresiva desaceleración y dispersión, generando diversos procesos de resultas de los cuales una serie de señales van a emerger al exterior, convirtiéndose en la fuente de información que nos permitirá el estudio de la muestra.\n",
    "La resolución de la información obtenible dependerá (en mayor o menor medida según sea el tipo de señal considerado) de la forma y tamaño de la región de la muestra afectada por el haz incidente, por lo que la delimitación de dicha zona resulta muy interesante.\n",
    "\n",
    "La visualización experimental del <font color = blue>  **volumen de interacción** <font color = black> (volumen de la muestra que contiene la mayoría de los electrones dispersados) es difícil, aunque se ha conseguido en algunos casos particulares como en el trabajo realizado por Everhart y col. sobre una muestra de polimetilmetacrilato mediante técnicas de ataque químico. En dicho experimento se pudo apreciar que el volumen de la interacción en un material ligero tiene forma de pera y un tamaño de varias micras bajo la acción de un haz electrónico de 20 keV. \n",
    "\n",
    "Esta forma de pera de la zona de interacción haz-muestra se desarrolla en materiales de bajo número atómico. Como ya se ha comentado, la probabilidad de que los electrones que entran en la muestra sufran interacciones elásticas (principales responsables de la dispersión angular del haz) es proporcional a Z y varia inversamente con la energía del electrón. En los materiales con bajo Z sometidos a la acción de un haz de energía elevada, la probabilidad de que los electrones incidentes sufran interacciones elásticas en su recorrido inicial por el interior de la muestra resulta pequeña, por lo que en las proximidades de la superficie el haz no se dispersa. Sólamente cuando los electrones han recorrido una cierta distancia por el interior de la muestra, y por tanto han cedido una significativa proporción de su energía mediante interacciones inelásticas, aumenta la probabilidad de sufrir colisiones elásticas, y se produce la progresiva dispersión y ensanchamiento del haz y por tanto de la zona de interacción. Este comportamiento es el que origina la forma de pera ya mencionada.\n",
    "\n",
    "Al ir aumentando el Z de la muestra, va desapareciendo esa forma de pera, porque aumenta notablemente la posibilidad de colisiones elásticas, incluso en el recorrido inicial de los electrones, por lo que la dispersión angular del haz comienza apenas penetrado éste en el material. Por otro lado, la profundidad que alcanzan los electrones incidentes dentro de la muestra va disminuyendo en general al aumentar el número atómico, ya que tanto las interacciones elásticas como inelásticas resultan más probables cuanto mayor es el Z del material. \n",
    "\n",
    "Para analizar el volumen de interacción y la profundidad de penetración, se simula el recorrido de los electrones por el interior del material, haciendo una secuencia de interacciones sucesivas del electrón con  la generación de números aleatorios. Es decir, se utiliza el **método de Monte Carlo**, considerando diversos parámentros tanto del haz incidente como de la muestra y la interacción entre ambos.\n",
    "\n"
   ]
  },
  {
   "cell_type": "markdown",
   "metadata": {},
   "source": []
  }
 ],
 "metadata": {
  "kernelspec": {
   "display_name": "Python 3",
   "language": "python",
   "name": "python3"
  },
  "language_info": {
   "codemirror_mode": {
    "name": "ipython",
    "version": 3
   },
   "file_extension": ".py",
   "mimetype": "text/x-python",
   "name": "python",
   "nbconvert_exporter": "python",
   "pygments_lexer": "ipython3",
   "version": "3.6.1"
  }
 },
 "nbformat": 4,
 "nbformat_minor": 2
}
